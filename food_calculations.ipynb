{
 "cells": [
  {
   "cell_type": "code",
   "execution_count": 5,
   "id": "33f68b6f-1261-44cf-9ab4-0257c856b39f",
   "metadata": {},
   "outputs": [
    {
     "name": "stdout",
     "output_type": "stream",
     "text": [
      "The autoreload extension is already loaded. To reload it, use:\n",
      "  %reload_ext autoreload\n"
     ]
    }
   ],
   "source": [
    "%load_ext autoreload\n",
    "%autoreload 2"
   ]
  },
  {
   "cell_type": "markdown",
   "id": "248fa6cb-73d9-4d92-9b89-cde931857049",
   "metadata": {},
   "source": [
    "## **Daily calculations** ##"
   ]
  },
  {
   "cell_type": "code",
   "execution_count": 32,
   "id": "a79ad4ac-b3b5-4b84-b635-ce09ba4c78b5",
   "metadata": {},
   "outputs": [
    {
     "name": "stdout",
     "output_type": "stream",
     "text": [
      "Adding 0.4*100 g of Havregryn Axa\n",
      "\t 370 kcal, 12.00 g protein, 60.00 g carbs, 7.00 g fat, 1.73 SEK\n",
      "Adding 0.7*100 g of Jordgubbssylt Lågkalori Ånås\n",
      "\t 40 kcal, 0.00 g protein, 8.50 g carbs, 0.00 g fat, 8.33 SEK\n",
      "Adding 2*100 g of Arla lättmjölk\n",
      "\t 40 kcal, 3.50 g protein, 5.00 g carbs, 0.50 g fat, 2.00 SEK\n",
      "Adding 1*30 g of Whey 100 MM Sports\n",
      "\t 136 kcal, 26.00 g protein, 1.40 g carbs, 2.30 g fat, 6.00 SEK\n",
      "Adding 1*100 g of banan\n",
      "\t 100 kcal, 1.00 g protein, 22.00 g carbs, 0.50 g fat, 3.00 SEK\n",
      "Adding 0.15*100 g of Valnötter\n",
      "\t 669 kcal, 14.30 g protein, 13.00 g carbs, 62.00 g fat, 3.00 SEK\n",
      "\n",
      "Daily summary:\n",
      "\t590 kcal\n",
      "\t40.95 g of protein\n",
      "\t65.30 g of carbs\n",
      "\t15.90 g of fat\n",
      "Estimated cost: 20 SEK\n"
     ]
    },
    {
     "name": "stderr",
     "output_type": "stream",
     "text": [
      "[autoreload of utils failed: Traceback (most recent call last):\n",
      "  File \"/home/gussjo/miniconda3/lib/python3.9/site-packages/IPython/extensions/autoreload.py\", line 257, in check\n",
      "    superreload(m, reload, self.old_objects)\n",
      "  File \"/home/gussjo/miniconda3/lib/python3.9/site-packages/IPython/extensions/autoreload.py\", line 455, in superreload\n",
      "    module = reload(module)\n",
      "  File \"/home/gussjo/miniconda3/lib/python3.9/importlib/__init__.py\", line 169, in reload\n",
      "    _bootstrap._exec(spec, module)\n",
      "  File \"<frozen importlib._bootstrap>\", line 613, in _exec\n",
      "  File \"<frozen importlib._bootstrap_external>\", line 846, in exec_module\n",
      "  File \"<frozen importlib._bootstrap_external>\", line 983, in get_code\n",
      "  File \"<frozen importlib._bootstrap_external>\", line 913, in source_to_code\n",
      "  File \"<frozen importlib._bootstrap>\", line 228, in _call_with_frames_removed\n",
      "  File \"/home/gussjo/food/utils.py\", line 38\n",
      "    'salta pinnar': macro_dict('Salta pinnar 250g ICA', 'kcal'=392.0, 'protein'=12.0, 'carbs'=71.0, 'fat'=5.9, 'price'=59.8, 'cost'=59.8),\n",
      "                                                        ^\n",
      "SyntaxError: expression cannot contain assignment, perhaps you meant \"==\"?\n",
      "]\n"
     ]
    }
   ],
   "source": [
    "from utils import evaluate_daily_macros\n",
    "meals = ({\n",
    "    'breakfast': (('havr',0.4), # 40% of 100 g\n",
    "                  ('sylt',0.7), # 70% of 100 g \n",
    "                  ('lättmj',2), # 2 dl\n",
    "                  ('whey',1), # 1 scoop of whey\n",
    "                  ('banan',1),\n",
    "                  ('valnötter',0.15),\n",
    "            \n",
    "    ),\n",
    "})\n",
    "\n",
    "daily = evaluate_daily_macros(meals)"
   ]
  },
  {
   "cell_type": "markdown",
   "id": "eb0971d0-523a-4b8b-bc8e-8202e808c095",
   "metadata": {},
   "source": [
    "### Sun Apr 24 ###"
   ]
  },
  {
   "cell_type": "code",
   "execution_count": 50,
   "id": "cd4d8ae1-f772-4695-90e3-9ff6aa93314c",
   "metadata": {},
   "outputs": [
    {
     "name": "stdout",
     "output_type": "stream",
     "text": [
      "Adding 0.65*100 g of Salta pinnar 250g ICA\n",
      "\t 254.8 kcal, 7.80 g protein, 46.15 g carbs, 3.84 g fat, 3.89 SEK\n",
      "\n",
      "Daily summary:\n",
      "\t250 kcal\n",
      "\t7.80 g of protein\n",
      "\t46.15 g of carbs\n",
      "\t3.84 g of fat\n",
      "Estimated cost: 4 SEK\n"
     ]
    }
   ],
   "source": [
    "from utils import evaluate_daily_macros\n",
    "meals = ({\n",
    "    'meal_1': (('salta_pinnar',0.65),('',0)),\n",
    "    '\n",
    "})\n",
    "evaluate_daily_macros(meals);\n"
   ]
  }
 ],
 "metadata": {
  "kernelspec": {
   "display_name": "Python 3",
   "language": "python",
   "name": "python3"
  },
  "language_info": {
   "codemirror_mode": {
    "name": "ipython",
    "version": 3
   },
   "file_extension": ".py",
   "mimetype": "text/x-python",
   "name": "python",
   "nbconvert_exporter": "python",
   "pygments_lexer": "ipython3",
   "version": "3.9.7"
  }
 },
 "nbformat": 4,
 "nbformat_minor": 5
}
