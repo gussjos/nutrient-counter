{
 "cells": [
  {
   "cell_type": "code",
   "execution_count": 1,
   "id": "33f68b6f-1261-44cf-9ab4-0257c856b39f",
   "metadata": {},
   "outputs": [],
   "source": [
    "%load_ext autoreload\n",
    "%autoreload 2"
   ]
  },
  {
   "cell_type": "markdown",
   "id": "248fa6cb-73d9-4d92-9b89-cde931857049",
   "metadata": {},
   "source": [
    "## **Daily calculations** ##"
   ]
  },
  {
   "cell_type": "code",
   "execution_count": 2,
   "id": "a79ad4ac-b3b5-4b84-b635-ce09ba4c78b5",
   "metadata": {},
   "outputs": [
    {
     "name": "stdout",
     "output_type": "stream",
     "text": [
      "Adding 0.4*100 g of Havregryn Axa\n",
      "\t 148.0 kcal, 4.80 g protein, 24.00 g carbs, 2.80 g fat, 0.69 SEK\n",
      "Adding 0.7*100 g of Jordgubbssylt Lågkalori Ånås\n",
      "\t 28.0 kcal, 0.00 g protein, 5.95 g carbs, 0.00 g fat, 5.83 SEK\n",
      "Adding 2*100 g of Arla lättmjölk\n",
      "\t 80 kcal, 7.00 g protein, 10.00 g carbs, 1.00 g fat, 4.00 SEK\n",
      "Adding 1*30 g of Whey 100 MM Sports\n",
      "\t 136 kcal, 26.00 g protein, 1.40 g carbs, 2.30 g fat, 6.00 SEK\n",
      "Adding 1*100 g of banan\n",
      "\t 100 kcal, 1.00 g protein, 22.00 g carbs, 0.50 g fat, 3.00 SEK\n",
      "Adding 0.15*100 g of Valnötter\n",
      "\t 100.35 kcal, 2.15 g protein, 1.95 g carbs, 9.30 g fat, 0.45 SEK\n",
      "\n",
      "Daily summary:\n",
      "\t590 kcal\n",
      "\t40.95 g of protein\n",
      "\t65.30 g of carbs\n",
      "\t15.90 g of fat\n",
      "Estimated cost: 20 SEK\n"
     ]
    }
   ],
   "source": [
    "from utils import evaluate_daily_macros\n",
    "meals = ({\n",
    "    'breakfast': (('havr',0.4), # 40% of 100 g\n",
    "                  ('sylt',0.7), # 70% of 100 g \n",
    "                  ('lättmj',2), # 2 dl\n",
    "                  ('whey',1), # 1 scoop of whey\n",
    "                  ('banan',1),\n",
    "                  ('valnötter',0.15),\n",
    "            \n",
    "    ),\n",
    "})\n",
    "\n",
    "daily = evaluate_daily_macros(meals)"
   ]
  },
  {
   "cell_type": "markdown",
   "id": "eb0971d0-523a-4b8b-bc8e-8202e808c095",
   "metadata": {},
   "source": [
    "### Sun Apr 24 ###"
   ]
  },
  {
   "cell_type": "code",
   "execution_count": 4,
   "id": "cd4d8ae1-f772-4695-90e3-9ff6aa93314c",
   "metadata": {},
   "outputs": [
    {
     "name": "stdout",
     "output_type": "stream",
     "text": [
      "Adding 0.65*100 g of Salta pinnar 250g ICA\n",
      "\t 254.8 kcal, 7.80 g protein, 46.15 g carbs, 3.84 g fat, 3.89 SEK\n",
      "\n",
      "Daily summary:\n",
      "\t250 kcal\n",
      "\t7.80 g of protein\n",
      "\t46.15 g of carbs\n",
      "\t3.84 g of fat\n",
      "Estimated cost: 4 SEK\n"
     ]
    }
   ],
   "source": [
    "from utils import evaluate_daily_macros\n",
    "meals = ({\n",
    "    'meal_1': (('salta_pinnar',0.65),('',0)),\n",
    "})\n",
    "evaluate_daily_macros(meals);\n"
   ]
  }
 ],
 "metadata": {
  "kernelspec": {
   "display_name": "Python 3",
   "language": "python",
   "name": "python3"
  },
  "language_info": {
   "codemirror_mode": {
    "name": "ipython",
    "version": 3
   },
   "file_extension": ".py",
   "mimetype": "text/x-python",
   "name": "python",
   "nbconvert_exporter": "python",
   "pygments_lexer": "ipython3",
   "version": "3.9.7"
  }
 },
 "nbformat": 4,
 "nbformat_minor": 5
}
