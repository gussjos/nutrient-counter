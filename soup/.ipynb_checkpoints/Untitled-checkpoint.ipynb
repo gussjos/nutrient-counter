{
 "cells": [
  {
   "cell_type": "code",
   "execution_count": 1,
   "id": "f7325479-a617-4835-819f-3948dce89871",
   "metadata": {},
   "outputs": [],
   "source": [
    "import re"
   ]
  },
  {
   "cell_type": "code",
   "execution_count": 63,
   "id": "a0699fbc-c76c-48cf-a045-0fffea789737",
   "metadata": {},
   "outputs": [
    {
     "data": {
      "text/plain": [
       "'<div class=\"static-content-wrapper__StaticContentWrapper-sc-3z5iao-0 kgChTt\">Energi (kcal) 392 kcal, Energi (kJ) 1640 kJ, Fett 8.44 g, Varav mättat fett 6.12 g, Kolhydrat 4.25 g, Varav socker 2.84 g, Protein 74.15 g, Salt 0.75 g</div>'"
      ]
     },
     "execution_count": 63,
     "metadata": {},
     "output_type": "execute_result"
    }
   ],
   "source": [
    "mystr = '<div class=\"static-content-wrapper__StaticContentWrapper-sc-3z5iao-0 kgChTt\">Energi (kcal) 392 kcal, Energi (kJ) 1640 kJ, Fett 8.44 g, Varav mättat fett 6.12 g, Kolhydrat 4.25 g, Varav socker 2.84 g, Protein 74.15 g, Salt 0.75 g</div>'\n",
    "mystr"
   ]
  },
  {
   "cell_type": "code",
   "execution_count": 74,
   "id": "61632915-608f-4de1-a339-99c71d37f313",
   "metadata": {},
   "outputs": [],
   "source": [
    "res = re.search(r'(kcal)',mystr)\n",
    "i2 = res.span()[-1]\n",
    "kcal = re.findall(r'\\d+',mystr[i2+1:i2+10])[0]"
   ]
  },
  {
   "cell_type": "code",
   "execution_count": 89,
   "id": "26463ee7-efb3-4b4c-9ce9-7bb2a977a712",
   "metadata": {},
   "outputs": [
    {
     "data": {
      "text/plain": [
       "'392'"
      ]
     },
     "execution_count": 89,
     "metadata": {},
     "output_type": "execute_result"
    }
   ],
   "source": [
    "def find_nutrient_amount(nutrient:str):\n",
    "    res = re.search(rf'{nutrient}',mystr)\n",
    "    i2 = res.span()[-1]\n",
    "    return re.findall(r'\\d+.\\d+',mystr[i2+1:])[0]\n",
    "    find_nbr_grams_of_macronutrient('kcal')"
   ]
  }
 ],
 "metadata": {
  "kernelspec": {
   "display_name": "Python 3",
   "language": "python",
   "name": "python3"
  },
  "language_info": {
   "codemirror_mode": {
    "name": "ipython",
    "version": 3
   },
   "file_extension": ".py",
   "mimetype": "text/x-python",
   "name": "python",
   "nbconvert_exporter": "python",
   "pygments_lexer": "ipython3",
   "version": "3.9.7"
  }
 },
 "nbformat": 4,
 "nbformat_minor": 5
}
